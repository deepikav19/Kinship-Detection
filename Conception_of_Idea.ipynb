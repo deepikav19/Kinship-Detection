{
  "nbformat": 4,
  "nbformat_minor": 0,
  "metadata": {
    "colab": {
      "name": "Conception_of_Idea.ipynb",
      "provenance": [],
      "collapsed_sections": []
    },
    "kernelspec": {
      "name": "python3",
      "display_name": "Python 3"
    },
    "language_info": {
      "name": "python"
    },
    "accelerator": "GPU"
  },
  "cells": [
    {
      "cell_type": "code",
      "metadata": {
        "colab": {
          "base_uri": "https://localhost:8080/",
          "height": 90
        },
        "id": "fBINvL0q6WDV",
        "outputId": "e6c12839-37a9-44df-ca51-20bf9b3447ce"
      },
      "source": [
        "'''\n",
        "Conception of Idea\n",
        "\n",
        "We used face_recognition module for this idea.\n",
        "We started with two people who are related and checked their face landmarks and how much they differ by euclidean distance.\n",
        "We did the same with 2 people who are not related.\n",
        "What we we found was - if people aren't related then euclidean distance between facial features is more than people who are related.\n",
        "Using this concept we generate our training set which array of euclidean difference between features.\n",
        "\n",
        "'''"
      ],
      "execution_count": 28,
      "outputs": [
        {
          "output_type": "execute_result",
          "data": {
            "application/vnd.google.colaboratory.intrinsic+json": {
              "type": "string"
            },
            "text/plain": [
              "\"\\nConception of Idea\\n\\nWe used face_recognition module for this idea.\\nWe started with two people who are related and checked their face landmarks and how much they differ by euclidean distance.\\nWe did the same with 2 people who are not related.\\nWhat we we found was - if people aren't related then euclidean distance between facial features is more than people who are related.\\nUsing this concept we generate our training set which array of euclidean difference between features.\\n\\n\""
            ]
          },
          "metadata": {},
          "execution_count": 28
        }
      ]
    },
    {
      "cell_type": "code",
      "metadata": {
        "colab": {
          "base_uri": "https://localhost:8080/"
        },
        "id": "Q8l0a-b34F9v",
        "outputId": "cef0ee90-9143-4ba4-b075-aa798a86c1c6"
      },
      "source": [
        "#install required modules\n",
        "!pip install pillow\n",
        "!pip install face_recognition"
      ],
      "execution_count": 29,
      "outputs": [
        {
          "output_type": "stream",
          "name": "stdout",
          "text": [
            "Requirement already satisfied: pillow in /usr/local/lib/python3.7/dist-packages (7.1.2)\n",
            "Requirement already satisfied: face_recognition in /usr/local/lib/python3.7/dist-packages (1.3.0)\n",
            "Requirement already satisfied: Pillow in /usr/local/lib/python3.7/dist-packages (from face_recognition) (7.1.2)\n",
            "Requirement already satisfied: dlib>=19.7 in /usr/local/lib/python3.7/dist-packages (from face_recognition) (19.18.0)\n",
            "Requirement already satisfied: numpy in /usr/local/lib/python3.7/dist-packages (from face_recognition) (1.19.5)\n",
            "Requirement already satisfied: Click>=6.0 in /usr/local/lib/python3.7/dist-packages (from face_recognition) (7.1.2)\n",
            "Requirement already satisfied: face-recognition-models>=0.3.0 in /usr/local/lib/python3.7/dist-packages (from face_recognition) (0.3.0)\n"
          ]
        }
      ]
    },
    {
      "cell_type": "code",
      "metadata": {
        "colab": {
          "base_uri": "https://localhost:8080/"
        },
        "id": "y2zkZTrP5e7p",
        "outputId": "f338f031-8122-4ecb-8925-cd7061946a55"
      },
      "source": [
        "from google.colab import drive\n",
        "drive.mount('/content/drive')"
      ],
      "execution_count": 30,
      "outputs": [
        {
          "output_type": "stream",
          "name": "stdout",
          "text": [
            "Drive already mounted at /content/drive; to attempt to forcibly remount, call drive.mount(\"/content/drive\", force_remount=True).\n"
          ]
        }
      ]
    },
    {
      "cell_type": "code",
      "metadata": {
        "id": "lDGnBLBp4UYo"
      },
      "source": [
        "from PIL import Image\n",
        "import face_recognition"
      ],
      "execution_count": 31,
      "outputs": []
    },
    {
      "cell_type": "code",
      "metadata": {
        "id": "JrmMNxVL4hNA"
      },
      "source": [
        "WOMAN_IMAGE_PATH = \"ms_001_1.jpg\"\n",
        "MAN_IMAGE_PATH = \"ms_001_2.jpg\""
      ],
      "execution_count": 32,
      "outputs": []
    },
    {
      "cell_type": "code",
      "metadata": {
        "colab": {
          "base_uri": "https://localhost:8080/",
          "height": 81
        },
        "id": "EY9nn7nV4jbM",
        "outputId": "594d3121-62fe-43ff-f642-b350f74ae52e"
      },
      "source": [
        "woman = Image.open(WOMAN_IMAGE_PATH)\n",
        "display(woman)"
      ],
      "execution_count": 35,
      "outputs": [
        {
          "output_type": "display_data",
          "data": {
            "image/png": "[encoded data removed]",
            "text/plain": [
              "<PIL.JpegImagePlugin.JpegImageFile image mode=RGB size=64x64 at 0x7F21C3D28DD0>"
            ]
          },
          "metadata": {}
        }
      ]
    },
    {
      "cell_type": "code",
      "metadata": {
        "colab": {
          "base_uri": "https://localhost:8080/",
          "height": 81
        },
        "id": "4RUknyer4j7z",
        "outputId": "da0b7a72-97d1-4029-992f-3b6b513cd84b"
      },
      "source": [
        "man = Image.open(MAN_IMAGE_PATH)\n",
        "display(man)"
      ],
      "execution_count": 36,
      "outputs": [
        {
          "output_type": "display_data",
          "data": {
            "image/png": "[encoded data removed]",
            "text/plain": [
              "<PIL.JpegImagePlugin.JpegImageFile image mode=RGB size=64x64 at 0x7F21C3D44ED0>"
            ]
          },
          "metadata": {}
        }
      ]
    },
    {
      "cell_type": "code",
      "metadata": {
        "colab": {
          "base_uri": "https://localhost:8080/"
        },
        "id": "1nsBpH2V4moC",
        "outputId": "c2f28bb0-bb8b-4675-e9f1-916b9dcc8636"
      },
      "source": [
        "image_array1 = face_recognition.load_image_file(WOMAN_IMAGE_PATH)\n",
        "image_array1"
      ],
      "execution_count": 37,
      "outputs": [
        {
          "output_type": "execute_result",
          "data": {
            "text/plain": [
              "array([[[213, 200, 192],\n",
              "        [205, 192, 183],\n",
              "        [207, 190, 180],\n",
              "        ...,\n",
              "        [108, 100,  87],\n",
              "        [107, 101,  89],\n",
              "        [105, 101,  89]],\n",
              "\n",
              "       [[209, 196, 188],\n",
              "        [205, 191, 182],\n",
              "        [207, 190, 180],\n",
              "        ...,\n",
              "        [107,  99,  86],\n",
              "        [106, 100,  88],\n",
              "        [105,  99,  87]],\n",
              "\n",
              "       [[213, 199, 190],\n",
              "        [209, 195, 186],\n",
              "        [214, 196, 186],\n",
              "        ...,\n",
              "        [111, 101,  89],\n",
              "        [109, 101,  90],\n",
              "        [106,  98,  87]],\n",
              "\n",
              "       ...,\n",
              "\n",
              "       [[ 54,  50,  38],\n",
              "        [ 87,  81,  69],\n",
              "        [177, 170, 160],\n",
              "        ...,\n",
              "        [104,  75,  61],\n",
              "        [110,  82,  70],\n",
              "        [134, 106,  94]],\n",
              "\n",
              "       [[ 62,  58,  46],\n",
              "        [105,  99,  87],\n",
              "        [186, 179, 169],\n",
              "        ...,\n",
              "        [105,  76,  62],\n",
              "        [107,  79,  67],\n",
              "        [133, 105,  93]],\n",
              "\n",
              "       [[ 73,  69,  57],\n",
              "        [113, 107,  95],\n",
              "        [178, 171, 161],\n",
              "        ...,\n",
              "        [116,  87,  73],\n",
              "        [ 97,  69,  57],\n",
              "        [107,  79,  67]]], dtype=uint8)"
            ]
          },
          "metadata": {},
          "execution_count": 37
        }
      ]
    },
    {
      "cell_type": "code",
      "metadata": {
        "colab": {
          "base_uri": "https://localhost:8080/"
        },
        "id": "IbuE8M8O4pDi",
        "outputId": "da3382d9-9fc2-4e57-f28d-4319713a036f"
      },
      "source": [
        "image_array2 = face_recognition.load_image_file(MAN_IMAGE_PATH)\n",
        "image_array2"
      ],
      "execution_count": 38,
      "outputs": [
        {
          "output_type": "execute_result",
          "data": {
            "text/plain": [
              "array([[[ 79,  48,  30],\n",
              "        [101,  66,  47],\n",
              "        [125,  87,  66],\n",
              "        ...,\n",
              "        [103,  80,  64],\n",
              "        [ 81,  64,  48],\n",
              "        [ 64,  51,  34]],\n",
              "\n",
              "       [[ 83,  52,  32],\n",
              "        [102,  67,  48],\n",
              "        [126,  85,  65],\n",
              "        ...,\n",
              "        [101,  78,  62],\n",
              "        [ 81,  64,  48],\n",
              "        [ 66,  53,  36]],\n",
              "\n",
              "       [[ 85,  52,  33],\n",
              "        [ 99,  64,  45],\n",
              "        [119,  78,  58],\n",
              "        ...,\n",
              "        [ 98,  75,  59],\n",
              "        [ 81,  64,  48],\n",
              "        [ 68,  55,  38]],\n",
              "\n",
              "       ...,\n",
              "\n",
              "       [[ 57,  41,  16],\n",
              "        [ 58,  38,  14],\n",
              "        [ 65,  37,  16],\n",
              "        ...,\n",
              "        [203, 162,  98],\n",
              "        [210, 166, 101],\n",
              "        [201, 158,  90]],\n",
              "\n",
              "       [[ 54,  40,  14],\n",
              "        [ 53,  35,  11],\n",
              "        [ 61,  34,  13],\n",
              "        ...,\n",
              "        [206, 165, 101],\n",
              "        [205, 161,  96],\n",
              "        [208, 163,  96]],\n",
              "\n",
              "       [[ 52,  37,  14],\n",
              "        [ 51,  33,  11],\n",
              "        [ 59,  32,  11],\n",
              "        ...,\n",
              "        [208, 167, 103],\n",
              "        [200, 157,  89],\n",
              "        [213, 168, 101]]], dtype=uint8)"
            ]
          },
          "metadata": {},
          "execution_count": 38
        }
      ]
    },
    {
      "cell_type": "code",
      "metadata": {
        "colab": {
          "base_uri": "https://localhost:8080/"
        },
        "id": "8Eo_SOCY4t97",
        "outputId": "47077e81-8e24-48d0-88bf-4d9d7bc88224"
      },
      "source": [
        "face_locations1 = face_recognition.face_locations(image_array1)\n",
        "face_locations1"
      ],
      "execution_count": 39,
      "outputs": [
        {
          "output_type": "execute_result",
          "data": {
            "text/plain": [
              "[(4, 64, 64, 4)]"
            ]
          },
          "metadata": {},
          "execution_count": 39
        }
      ]
    },
    {
      "cell_type": "code",
      "metadata": {
        "colab": {
          "base_uri": "https://localhost:8080/"
        },
        "id": "xT5gB81r4un_",
        "outputId": "57100f44-3c6f-444a-8dd4-c2151d5795fd"
      },
      "source": [
        "face_locations2 = face_recognition.face_locations(image_array2)\n",
        "face_locations2"
      ],
      "execution_count": 40,
      "outputs": [
        {
          "output_type": "execute_result",
          "data": {
            "text/plain": [
              "[(4, 64, 64, 4)]"
            ]
          },
          "metadata": {},
          "execution_count": 40
        }
      ]
    },
    {
      "cell_type": "code",
      "metadata": {
        "colab": {
          "base_uri": "https://localhost:8080/"
        },
        "id": "Lat5ZJW04wsh",
        "outputId": "3f253f06-2488-4f7e-f925-41d0ec7c804e"
      },
      "source": [
        "woman_face_encoding = face_recognition.face_encodings(image_array1)[0]\n",
        "woman_face_encoding"
      ],
      "execution_count": 41,
      "outputs": [
        {
          "output_type": "execute_result",
          "data": {
            "text/plain": [
              "array([-9.51630771e-02,  1.00319862e-01,  1.19007140e-01,  2.45287120e-02,\n",
              "       -9.43189040e-02, -2.33089328e-02, -2.78661363e-02, -1.53453529e-01,\n",
              "        1.23658478e-01, -1.67898551e-01,  2.48847887e-01, -4.41675335e-02,\n",
              "       -2.79760957e-01,  8.63008946e-03, -3.69810462e-02,  1.26763359e-01,\n",
              "       -1.62767142e-01, -9.97723937e-02, -8.73778760e-02, -3.27207968e-02,\n",
              "        2.32717842e-02,  5.52876554e-02,  3.23899910e-02, -6.82633370e-02,\n",
              "       -4.80496883e-02, -2.91477978e-01, -5.88705987e-02, -2.37120949e-02,\n",
              "        8.98295641e-02, -1.56061798e-02,  5.17715067e-02,  2.22180020e-02,\n",
              "       -1.90829054e-01, -3.07739303e-02, -1.29676685e-02,  1.22230776e-01,\n",
              "       -1.45492941e-01, -4.68413383e-02,  2.17961341e-01, -3.89367789e-02,\n",
              "       -1.58927783e-01, -2.02130601e-02, -1.28226876e-02,  2.20638886e-01,\n",
              "        1.80637807e-01,  4.38226834e-02,  1.70510262e-04, -1.52004063e-01,\n",
              "        6.35735393e-02, -3.07299793e-01,  9.10957456e-02,  1.24099001e-01,\n",
              "        9.76602510e-02,  1.03076637e-01,  7.87738264e-02, -1.73119694e-01,\n",
              "        2.59633474e-02,  1.17113829e-01, -1.44173414e-01,  7.41567910e-02,\n",
              "        1.10890046e-01, -9.19506475e-02,  3.17143500e-02, -4.14134786e-02,\n",
              "        1.57312930e-01,  5.55452406e-02,  2.10436806e-03, -1.22481398e-01,\n",
              "        2.80369490e-01, -1.71775788e-01, -8.14135820e-02,  1.01233318e-01,\n",
              "       -2.15895474e-02, -1.69370532e-01, -2.34517246e-01, -1.95031241e-02,\n",
              "        3.87371421e-01,  1.26448303e-01, -1.13242902e-01, -2.56852880e-02,\n",
              "       -2.93686315e-02, -7.48278350e-02,  6.41726255e-02, -6.57257251e-03,\n",
              "       -3.63868475e-02, -1.12107500e-01, -1.22933969e-01,  3.58957797e-03,\n",
              "        2.59952813e-01, -7.79885352e-02, -1.86837763e-02,  2.25584045e-01,\n",
              "        4.89260554e-02, -6.09981269e-02,  8.55908841e-02, -1.21425986e-02,\n",
              "       -4.39759046e-02,  2.44942419e-02, -1.87204450e-01, -6.71581030e-02,\n",
              "        3.06459814e-02, -1.73021749e-01, -1.51744820e-02,  9.57959890e-02,\n",
              "       -1.88859224e-01,  2.09306806e-01, -2.68276781e-02, -3.40738967e-02,\n",
              "        6.43884838e-02, -3.79392058e-02, -1.14621297e-01,  1.78158656e-02,\n",
              "        2.56770074e-01, -1.98560268e-01,  2.46265918e-01,  1.65557176e-01,\n",
              "        4.32482436e-02,  1.65456533e-01,  4.34718579e-02,  1.46640882e-01,\n",
              "       -1.94956362e-02, -5.23635745e-02, -2.12971687e-01, -1.40632957e-01,\n",
              "       -2.78724134e-02,  9.85752046e-03,  4.69890982e-03,  1.15108512e-01])"
            ]
          },
          "metadata": {},
          "execution_count": 41
        }
      ]
    },
    {
      "cell_type": "code",
      "metadata": {
        "colab": {
          "base_uri": "https://localhost:8080/"
        },
        "id": "a0EhRL9b4yzg",
        "outputId": "399a594e-c41b-4002-c089-bdd704df7dac"
      },
      "source": [
        "face_landmarks_list1 = face_recognition.face_landmarks(image_array1)\n",
        "face_landmarks_list1"
      ],
      "execution_count": 42,
      "outputs": [
        {
          "output_type": "execute_result",
          "data": {
            "text/plain": [
              "[{'bottom_lip': [(47, 53),\n",
              "   (41, 56),\n",
              "   (36, 56),\n",
              "   (33, 57),\n",
              "   (29, 56),\n",
              "   (24, 56),\n",
              "   (19, 53),\n",
              "   (21, 53),\n",
              "   (29, 53),\n",
              "   (33, 53),\n",
              "   (36, 53),\n",
              "   (45, 53)],\n",
              "  'chin': [(-1, 24),\n",
              "   (0, 32),\n",
              "   (1, 40),\n",
              "   (2, 47),\n",
              "   (4, 55),\n",
              "   (9, 60),\n",
              "   (16, 64),\n",
              "   (25, 65),\n",
              "   (33, 65),\n",
              "   (41, 65),\n",
              "   (50, 63),\n",
              "   (57, 60),\n",
              "   (61, 54),\n",
              "   (63, 46),\n",
              "   (64, 38),\n",
              "   (64, 30),\n",
              "   (64, 22)],\n",
              "  'left_eye': [(12, 22), (16, 19), (20, 19), (24, 23), (20, 24), (15, 23)],\n",
              "  'left_eyebrow': [(5, 17), (9, 13), (15, 11), (21, 12), (27, 14)],\n",
              "  'nose_bridge': [(32, 20), (32, 26), (32, 32), (32, 37)],\n",
              "  'nose_tip': [(26, 42), (29, 43), (32, 43), (35, 42), (38, 42)],\n",
              "  'right_eye': [(40, 22), (44, 19), (48, 18), (52, 21), (49, 23), (44, 23)],\n",
              "  'right_eyebrow': [(36, 13), (42, 11), (48, 10), (54, 10), (58, 14)],\n",
              "  'top_lip': [(19, 53),\n",
              "   (25, 52),\n",
              "   (29, 51),\n",
              "   (33, 52),\n",
              "   (36, 51),\n",
              "   (41, 51),\n",
              "   (47, 53),\n",
              "   (45, 53),\n",
              "   (36, 53),\n",
              "   (33, 54),\n",
              "   (29, 53),\n",
              "   (21, 53)]}]"
            ]
          },
          "metadata": {},
          "execution_count": 42
        }
      ]
    },
    {
      "cell_type": "code",
      "metadata": {
        "colab": {
          "base_uri": "https://localhost:8080/"
        },
        "id": "t_-o012p41xb",
        "outputId": "7d422a45-b3f8-4ac4-efe0-99dc32a8dad6"
      },
      "source": [
        "face_landmarks_list2 = face_recognition.face_landmarks(image_array2)\n",
        "face_landmarks_list2"
      ],
      "execution_count": 43,
      "outputs": [
        {
          "output_type": "execute_result",
          "data": {
            "text/plain": [
              "[{'bottom_lip': [(47, 51),\n",
              "   (42, 56),\n",
              "   (37, 57),\n",
              "   (33, 58),\n",
              "   (29, 57),\n",
              "   (23, 56),\n",
              "   (17, 52),\n",
              "   (19, 53),\n",
              "   (29, 54),\n",
              "   (33, 55),\n",
              "   (37, 54),\n",
              "   (45, 52)],\n",
              "  'chin': [(-2, 19),\n",
              "   (-2, 28),\n",
              "   (-1, 37),\n",
              "   (0, 46),\n",
              "   (2, 54),\n",
              "   (7, 61),\n",
              "   (14, 65),\n",
              "   (23, 68),\n",
              "   (32, 68),\n",
              "   (41, 67),\n",
              "   (49, 64),\n",
              "   (54, 59),\n",
              "   (58, 53),\n",
              "   (60, 45),\n",
              "   (61, 37),\n",
              "   (62, 28),\n",
              "   (62, 20)],\n",
              "  'left_eye': [(11, 19), (15, 18), (19, 18), (23, 21), (19, 21), (15, 21)],\n",
              "  'left_eyebrow': [(4, 14), (10, 11), (16, 10), (23, 10), (29, 13)],\n",
              "  'nose_bridge': [(33, 19), (33, 26), (34, 34), (34, 41)],\n",
              "  'nose_tip': [(25, 43), (29, 44), (33, 46), (37, 45), (40, 43)],\n",
              "  'right_eye': [(41, 21), (44, 18), (48, 18), (52, 20), (49, 21), (45, 21)],\n",
              "  'right_eyebrow': [(36, 13), (42, 10), (48, 10), (53, 11), (57, 15)],\n",
              "  'top_lip': [(17, 52),\n",
              "   (23, 52),\n",
              "   (29, 52),\n",
              "   (33, 53),\n",
              "   (37, 51),\n",
              "   (42, 52),\n",
              "   (47, 51),\n",
              "   (45, 52),\n",
              "   (37, 53),\n",
              "   (33, 54),\n",
              "   (29, 54),\n",
              "   (19, 53)]}]"
            ]
          },
          "metadata": {},
          "execution_count": 43
        }
      ]
    },
    {
      "cell_type": "code",
      "metadata": {
        "id": "vorwGmCG44WN"
      },
      "source": [
        "from scipy.spatial import distance\n",
        "def distance_between_feature(point1, points2):\n",
        "  dist = 0.0\n",
        "  for i in range(0,len(point1)):\n",
        "    dist += distance.euclidean(point1[i], points2[i])\n",
        "  return dist/len(point1);\n",
        "\n"
      ],
      "execution_count": 44,
      "outputs": []
    },
    {
      "cell_type": "code",
      "metadata": {
        "colab": {
          "base_uri": "https://localhost:8080/"
        },
        "id": "77sj_dBk47L0",
        "outputId": "0875e905-445f-4803-c374-09f4f4d68af1"
      },
      "source": [
        "def find_euclidean_distance(face_features1, face_features2):\n",
        "  distance = 0.0\n",
        "  distance_array = []\n",
        "  for area in face_features1:\n",
        "    person1 = face_features1[area]\n",
        "    person2 = face_features2[area]\n",
        "    distance = distance + distance_between_feature(person1,person2);\n",
        "    distance_array.append(distance);\n",
        "   \n",
        "  return distance_array\n",
        "\n",
        "print(find_euclidean_distance(face_landmarks_list1[0],face_landmarks_list2[0]))"
      ],
      "execution_count": 45,
      "outputs": [
        {
          "output_type": "stream",
          "name": "stdout",
          "text": [
            "[2.9769991789545216, 5.3524100394119705, 6.118095464361208, 8.546789624890925, 10.830411719991975, 13.061920123755765, 14.336967047067914, 15.641157175390655, 17.063198433911154]\n"
          ]
        }
      ]
    },
    {
      "cell_type": "code",
      "metadata": {
        "colab": {
          "base_uri": "https://localhost:8080/"
        },
        "id": "3PgIxdu_4-eF",
        "outputId": "1ee60f9a-1bd6-400c-97a0-d102b429f0f4"
      },
      "source": [
        "image_array3 = face_recognition.load_image_file(\"ms_012_1.jpg\")\n",
        "image_array3"
      ],
      "execution_count": 46,
      "outputs": [
        {
          "output_type": "execute_result",
          "data": {
            "text/plain": [
              "array([[[ 3,  3,  3],\n",
              "        [30, 30, 30],\n",
              "        [83, 83, 83],\n",
              "        ...,\n",
              "        [61, 61, 61],\n",
              "        [51, 51, 51],\n",
              "        [46, 46, 46]],\n",
              "\n",
              "       [[ 0,  0,  0],\n",
              "        [28, 28, 28],\n",
              "        [73, 73, 73],\n",
              "        ...,\n",
              "        [60, 60, 60],\n",
              "        [46, 46, 46],\n",
              "        [39, 39, 39]],\n",
              "\n",
              "       [[ 0,  0,  0],\n",
              "        [30, 30, 30],\n",
              "        [62, 62, 62],\n",
              "        ...,\n",
              "        [62, 62, 62],\n",
              "        [42, 42, 42],\n",
              "        [32, 32, 32]],\n",
              "\n",
              "       ...,\n",
              "\n",
              "       [[66, 66, 66],\n",
              "        [80, 80, 80],\n",
              "        [78, 78, 78],\n",
              "        ...,\n",
              "        [45, 45, 45],\n",
              "        [61, 61, 61],\n",
              "        [37, 37, 37]],\n",
              "\n",
              "       [[77, 77, 77],\n",
              "        [83, 83, 83],\n",
              "        [86, 86, 86],\n",
              "        ...,\n",
              "        [45, 45, 45],\n",
              "        [59, 59, 59],\n",
              "        [29, 29, 29]],\n",
              "\n",
              "       [[68, 68, 68],\n",
              "        [79, 79, 79],\n",
              "        [99, 99, 99],\n",
              "        ...,\n",
              "        [43, 43, 43],\n",
              "        [55, 55, 55],\n",
              "        [21, 21, 21]]], dtype=uint8)"
            ]
          },
          "metadata": {},
          "execution_count": 46
        }
      ]
    },
    {
      "cell_type": "code",
      "metadata": {
        "colab": {
          "base_uri": "https://localhost:8080/"
        },
        "id": "VCILnlMr5Bv4",
        "outputId": "d851cc4a-bdea-41e2-ba00-cef6ce97d99a"
      },
      "source": [
        "face_landmarks_list3 = face_recognition.face_landmarks(image_array3)\n",
        "face_landmarks_list3"
      ],
      "execution_count": 47,
      "outputs": [
        {
          "output_type": "execute_result",
          "data": {
            "text/plain": [
              "[{'bottom_lip': [(42, 45),\n",
              "   (38, 50),\n",
              "   (33, 52),\n",
              "   (29, 53),\n",
              "   (25, 52),\n",
              "   (21, 49),\n",
              "   (17, 44),\n",
              "   (18, 44),\n",
              "   (26, 48),\n",
              "   (29, 48),\n",
              "   (33, 48),\n",
              "   (41, 45)],\n",
              "  'chin': [(1, 15),\n",
              "   (0, 24),\n",
              "   (1, 32),\n",
              "   (1, 40),\n",
              "   (4, 48),\n",
              "   (9, 54),\n",
              "   (14, 59),\n",
              "   (21, 63),\n",
              "   (29, 65),\n",
              "   (37, 64),\n",
              "   (44, 60),\n",
              "   (50, 56),\n",
              "   (56, 50),\n",
              "   (59, 42),\n",
              "   (60, 34),\n",
              "   (61, 25),\n",
              "   (62, 17)],\n",
              "  'left_eye': [(12, 14), (16, 13), (20, 13), (23, 16), (19, 16), (15, 16)],\n",
              "  'left_eyebrow': [(7, 8), (10, 4), (15, 4), (20, 4), (25, 6)],\n",
              "  'nose_bridge': [(31, 14), (31, 20), (31, 25), (30, 31)],\n",
              "  'nose_tip': [(24, 34), (27, 35), (30, 36), (33, 36), (36, 35)],\n",
              "  'right_eye': [(40, 16), (43, 14), (47, 14), (50, 15), (47, 16), (43, 16)],\n",
              "  'right_eyebrow': [(38, 7), (43, 5), (48, 4), (53, 6), (56, 9)],\n",
              "  'top_lip': [(17, 44),\n",
              "   (22, 42),\n",
              "   (26, 42),\n",
              "   (30, 42),\n",
              "   (33, 42),\n",
              "   (38, 43),\n",
              "   (42, 45),\n",
              "   (41, 45),\n",
              "   (33, 44),\n",
              "   (30, 44),\n",
              "   (26, 44),\n",
              "   (18, 44)]}]"
            ]
          },
          "metadata": {},
          "execution_count": 47
        }
      ]
    },
    {
      "cell_type": "code",
      "metadata": {
        "colab": {
          "base_uri": "https://localhost:8080/"
        },
        "id": "IiyIH4zb5F1B",
        "outputId": "8b34e3a9-1eeb-48c7-f36c-27c27c1b2c4c"
      },
      "source": [
        "print(find_euclidean_distance(face_landmarks_list2[0],face_landmarks_list3[0]))"
      ],
      "execution_count": 49,
      "outputs": [
        {
          "output_type": "stream",
          "name": "stdout",
          "text": [
            "[4.862826028806198, 11.7751116575253, 17.47637913037085, 25.468099810932202, 34.969772974159426, 40.019282730955815, 44.936070261994416, 54.539988209208985, 61.924158371423616]\n"
          ]
        }
      ]
    }
  ]
}